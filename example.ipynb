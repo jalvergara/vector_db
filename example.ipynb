{
 "cells": [
  {
   "cell_type": "code",
   "execution_count": 1,
   "id": "972d07c5-a1f1-49c5-bfe9-b9b312aa74c8",
   "metadata": {},
   "outputs": [
    {
     "name": "stderr",
     "output_type": "stream",
     "text": [
      "c:\\Users\\User\\alejo\\vector_db\\vector_db\\venv\\lib\\site-packages\\sentence_transformers\\cross_encoder\\CrossEncoder.py:13: TqdmWarning: IProgress not found. Please update jupyter and ipywidgets. See https://ipywidgets.readthedocs.io/en/stable/user_install.html\n",
      "  from tqdm.autonotebook import tqdm, trange\n"
     ]
    }
   ],
   "source": [
    "import json\n",
    "import psycopg2\n",
    "import pandas as pd\n",
    "from psycopg2.extras import execute_batch\n",
    "from pathlib import Path\n",
    "from sentence_transformers import SentenceTransformer\n",
    "from psycopg2.extras import execute_values\n",
    "\n",
    "model = SentenceTransformer('sentence-transformers/all-MiniLM-L6-v2')\n",
    "\n",
    "# Database connection parameters\n",
    "DB_PARAMS = {\n",
    "    \"dbname\": \"postgres\",\n",
    "    \"user\": \"postgres\",\n",
    "    \"password\": \"postgres\",\n",
    "    \"host\": \"localhost\",\n",
    "    \"port\": \"5433\"  # Default is 5432\n",
    "}\n",
    "\n",
    "# Connect to PostgreSQL\n",
    "try:\n",
    "    conn = psycopg2.connect(**DB_PARAMS)\n",
    "    conn.autocommit = True\n",
    "    # cursor = conn.cursor()\n",
    "except Exception as e:\n",
    "    print(f\"Error connecting to database: {e}\")\n",
    "    exit(1)\n",
    "\n",
    "init_pgvector = \"CREATE EXTENSION IF NOT EXISTS vector;\" # execute this first\n",
    "create_table = \"\"\"CREATE TABLE \"example\" (id bigserial PRIMARY KEY, keyword VARCHAR(100), embedding vector(384));\"\"\"\n",
    "insert_embeddings = \"INSERT INTO example (keyword, embedding) VALUES %s\""
   ]
  },
  {
   "cell_type": "code",
   "execution_count": null,
   "id": "5f72e6eb",
   "metadata": {},
   "outputs": [
    {
     "name": "stdout",
     "output_type": "stream",
     "text": [
      "[('example',), ('example1',)]\n"
     ]
    }
   ],
   "source": [
    "#install pgvector\n",
    "cur = conn.cursor()\n",
    "cur.execute(init_pgvector)\n",
    "cur.execute(create_table)\n",
    "conn.commit()\n",
    "cur.execute(\"select relname from pg_class where relkind='r' and relname !~ '^(pg_|sql_)';\")\n",
    "print(cur.fetchall())\n"
   ]
  },
  {
   "cell_type": "code",
   "execution_count": 2,
   "id": "027c9275-455d-4138-86cd-5d0c752d2f08",
   "metadata": {},
   "outputs": [],
   "source": [
    "#limite maximo es de 384 tokens\n",
    "sentences = [\"hello world\", \"hello python\", \"bye python\", \"la girafa es roja\", \"python\", \"bython\", \"el mico esta trepando\", \"mico\", \"el mico es cafe\"]\n",
    "embeddings = model.encode(sentences, normalize_embeddings=True).tolist()"
   ]
  },
  {
   "cell_type": "code",
   "execution_count": 3,
   "id": "49416638-2aaf-4d60-86b8-ca9473730623",
   "metadata": {},
   "outputs": [
    {
     "name": "stdout",
     "output_type": "stream",
     "text": [
      "9\n",
      "384\n"
     ]
    }
   ],
   "source": [
    "print(len(sentences))\n",
    "print(len(embeddings[0]))"
   ]
  },
  {
   "cell_type": "code",
   "execution_count": 4,
   "id": "ee30d286-26f4-4538-af9a-36b5467c7178",
   "metadata": {
    "scrolled": true
   },
   "outputs": [],
   "source": [
    "# embeddings = model.encode(sentences, normalize_embeddings=True).tolist()\n",
    "data = [(sentence, embedding) for sentence, embedding in zip(sentences, embeddings)]\n",
    "with conn.cursor() as curs:\n",
    "    execute_values(\n",
    "                curs,\n",
    "                insert_embeddings,\n",
    "                data,\n",
    "                template=\"(%s, %s)\"\n",
    "            )"
   ]
  },
  {
   "cell_type": "code",
   "execution_count": 5,
   "id": "ef1bf172-a515-4066-aeeb-3595f4f37613",
   "metadata": {},
   "outputs": [
    {
     "data": {
      "text/plain": [
       "[('python', 1.0),\n",
       " ('python', 1.0),\n",
       " ('hello python', 0.8450508713722229),\n",
       " ('hello python', 0.8450508713722229),\n",
       " ('bye python', 0.6831845045089722)]"
      ]
     },
     "execution_count": 5,
     "metadata": {},
     "output_type": "execute_result"
    }
   ],
   "source": [
    "data = str(model.encode(\"python\", normalize_embeddings=False).tolist())\n",
    "with conn.cursor() as curs:\n",
    "    curs.execute(\"\"\"\n",
    "            SELECT keyword,\n",
    "            1-(embedding <=> %(data)s) as similarity\n",
    "            FROM example\n",
    "            --WHERE 1-(embedding <=> %(data)s) >= 0.5\n",
    "            ORDER BY embedding <=> %(data)s\n",
    "            LIMIT 5;\n",
    "        \"\"\",\n",
    "        {\"data\": data}\n",
    "    )\n",
    "    result = [(keyword) for keyword in curs.fetchall()]\n",
    "result"
   ]
  },
  {
   "cell_type": "code",
   "execution_count": 6,
   "id": "5f81dfb7-90a1-4625-adbc-a6869399cd23",
   "metadata": {},
   "outputs": [],
   "source": [
    "with conn.cursor() as curs:\n",
    "    curs.execute(\"CREATE INDEX ON example USING ivfflat (embedding vector_cosine_ops) WITH (lists = 100);\")"
   ]
  },
  {
   "cell_type": "code",
   "execution_count": 2,
   "id": "6dd63f69",
   "metadata": {},
   "outputs": [
    {
     "data": {
      "text/html": [
       "<div>\n",
       "<style scoped>\n",
       "    .dataframe tbody tr th:only-of-type {\n",
       "        vertical-align: middle;\n",
       "    }\n",
       "\n",
       "    .dataframe tbody tr th {\n",
       "        vertical-align: top;\n",
       "    }\n",
       "\n",
       "    .dataframe thead th {\n",
       "        text-align: right;\n",
       "    }\n",
       "</style>\n",
       "<table border=\"1\" class=\"dataframe\">\n",
       "  <thead>\n",
       "    <tr style=\"text-align: right;\">\n",
       "      <th></th>\n",
       "      <th>id</th>\n",
       "      <th>keyword</th>\n",
       "      <th>vector</th>\n",
       "    </tr>\n",
       "  </thead>\n",
       "  <tbody>\n",
       "    <tr>\n",
       "      <th>0</th>\n",
       "      <td>1</td>\n",
       "      <td>hello world</td>\n",
       "      <td>[-0.03447727,0.031023229,0.006734971,0.0261089...</td>\n",
       "    </tr>\n",
       "    <tr>\n",
       "      <th>1</th>\n",
       "      <td>2</td>\n",
       "      <td>hello python</td>\n",
       "      <td>[-0.050150678,0.027626721,-0.014199368,0.05738...</td>\n",
       "    </tr>\n",
       "    <tr>\n",
       "      <th>2</th>\n",
       "      <td>3</td>\n",
       "      <td>bye python</td>\n",
       "      <td>[-0.0173582,0.055295315,0.044234786,0.05157163...</td>\n",
       "    </tr>\n",
       "    <tr>\n",
       "      <th>3</th>\n",
       "      <td>4</td>\n",
       "      <td>la girafa es roja</td>\n",
       "      <td>[-0.017561583,0.027168112,-0.05538615,0.040346...</td>\n",
       "    </tr>\n",
       "    <tr>\n",
       "      <th>4</th>\n",
       "      <td>5</td>\n",
       "      <td>python</td>\n",
       "      <td>[-0.05615145,0.017742552,-0.059133362,0.040266...</td>\n",
       "    </tr>\n",
       "  </tbody>\n",
       "</table>\n",
       "</div>"
      ],
      "text/plain": [
       "   id            keyword                                             vector\n",
       "0   1        hello world  [-0.03447727,0.031023229,0.006734971,0.0261089...\n",
       "1   2       hello python  [-0.050150678,0.027626721,-0.014199368,0.05738...\n",
       "2   3         bye python  [-0.0173582,0.055295315,0.044234786,0.05157163...\n",
       "3   4  la girafa es roja  [-0.017561583,0.027168112,-0.05538615,0.040346...\n",
       "4   5             python  [-0.05615145,0.017742552,-0.059133362,0.040266..."
      ]
     },
     "execution_count": 2,
     "metadata": {},
     "output_type": "execute_result"
    }
   ],
   "source": [
    "cur = conn.cursor()\n",
    "cur.execute(\"SELECT * FROM example1\")\n",
    "tuples_list = cur.fetchall()\n",
    "#print(tuples_list)\n",
    "\n",
    "df = pd.DataFrame(tuples_list, columns=[\"id\",\"keyword\",\"vector\"])\n",
    "df.head(5)"
   ]
  },
  {
   "cell_type": "code",
   "execution_count": 3,
   "id": "93584814",
   "metadata": {},
   "outputs": [],
   "source": [
    "from ast import literal_eval\n",
    "\n",
    "df[\"vector\"] = df.vector.apply(literal_eval)\n",
    "\n",
    "df[\"vector_length\"] = df[\"vector\"].apply(len)"
   ]
  },
  {
   "cell_type": "code",
   "execution_count": 4,
   "id": "40395f76",
   "metadata": {},
   "outputs": [
    {
     "data": {
      "text/html": [
       "<div>\n",
       "<style scoped>\n",
       "    .dataframe tbody tr th:only-of-type {\n",
       "        vertical-align: middle;\n",
       "    }\n",
       "\n",
       "    .dataframe tbody tr th {\n",
       "        vertical-align: top;\n",
       "    }\n",
       "\n",
       "    .dataframe thead th {\n",
       "        text-align: right;\n",
       "    }\n",
       "</style>\n",
       "<table border=\"1\" class=\"dataframe\">\n",
       "  <thead>\n",
       "    <tr style=\"text-align: right;\">\n",
       "      <th></th>\n",
       "      <th>id</th>\n",
       "      <th>keyword</th>\n",
       "      <th>vector</th>\n",
       "      <th>vector_length</th>\n",
       "    </tr>\n",
       "  </thead>\n",
       "  <tbody>\n",
       "    <tr>\n",
       "      <th>0</th>\n",
       "      <td>1</td>\n",
       "      <td>hello world</td>\n",
       "      <td>[-0.03447727, 0.031023229, 0.006734971, 0.0261...</td>\n",
       "      <td>384</td>\n",
       "    </tr>\n",
       "    <tr>\n",
       "      <th>1</th>\n",
       "      <td>2</td>\n",
       "      <td>hello python</td>\n",
       "      <td>[-0.050150678, 0.027626721, -0.014199368, 0.05...</td>\n",
       "      <td>384</td>\n",
       "    </tr>\n",
       "    <tr>\n",
       "      <th>2</th>\n",
       "      <td>3</td>\n",
       "      <td>bye python</td>\n",
       "      <td>[-0.0173582, 0.055295315, 0.044234786, 0.05157...</td>\n",
       "      <td>384</td>\n",
       "    </tr>\n",
       "    <tr>\n",
       "      <th>3</th>\n",
       "      <td>4</td>\n",
       "      <td>la girafa es roja</td>\n",
       "      <td>[-0.017561583, 0.027168112, -0.05538615, 0.040...</td>\n",
       "      <td>384</td>\n",
       "    </tr>\n",
       "    <tr>\n",
       "      <th>4</th>\n",
       "      <td>5</td>\n",
       "      <td>python</td>\n",
       "      <td>[-0.05615145, 0.017742552, -0.059133362, 0.040...</td>\n",
       "      <td>384</td>\n",
       "    </tr>\n",
       "  </tbody>\n",
       "</table>\n",
       "</div>"
      ],
      "text/plain": [
       "   id            keyword                                             vector  \\\n",
       "0   1        hello world  [-0.03447727, 0.031023229, 0.006734971, 0.0261...   \n",
       "1   2       hello python  [-0.050150678, 0.027626721, -0.014199368, 0.05...   \n",
       "2   3         bye python  [-0.0173582, 0.055295315, 0.044234786, 0.05157...   \n",
       "3   4  la girafa es roja  [-0.017561583, 0.027168112, -0.05538615, 0.040...   \n",
       "4   5             python  [-0.05615145, 0.017742552, -0.059133362, 0.040...   \n",
       "\n",
       "   vector_length  \n",
       "0            384  \n",
       "1            384  \n",
       "2            384  \n",
       "3            384  \n",
       "4            384  "
      ]
     },
     "execution_count": 4,
     "metadata": {},
     "output_type": "execute_result"
    }
   ],
   "source": [
    "df.head(5)"
   ]
  },
  {
   "cell_type": "code",
   "execution_count": 13,
   "id": "9381abf3",
   "metadata": {},
   "outputs": [],
   "source": [
    "#install pgvector\n",
    "create_table = \"\"\"CREATE TABLE \"chunks\" (id bigserial PRIMARY KEY, keyword VARCHAR(400), embedding vector(384));\"\"\"\n",
    "\n",
    "cur = conn.cursor()\n",
    "cur.execute(create_table)\n",
    "conn.commit()"
   ]
  },
  {
   "cell_type": "code",
   "execution_count": 14,
   "id": "0f02c17e",
   "metadata": {},
   "outputs": [],
   "source": [
    "#limite maximo es de 384 tokens\n",
    "chunk1 = \"\"\"\n",
    "El Señor de los Anillos es una épica de fantasía escrita por J.R.R. Tolkien. \n",
    "\"\"\"\n",
    "chunk2 = \"\"\"\n",
    "La historia sigue a Frodo Bolsón, un hobbit que hereda un anillo poderoso y maligno creado por el Señor Oscuro, \n",
    "Sauron\n",
    "\"\"\"\n",
    "chunk3 = \"\"\"\n",
    "para dominar la Tierra Media. Acompañado por un grupo de aliados conocidos como la Comunidad del Anillo \n",
    "\"\"\"\n",
    "chunk4 = \"\"\"\n",
    "incluyendo a Aragorn, Gandalf, Legolas, Gimli, Sam, Merry y Pippin, \n",
    "Frodo debe viajar a Mordor para destruir el Anillo en el único lugar donde puede ser destruido: el Monte del Destino.\n",
    "\"\"\"\n",
    "chunk5 = \"\"\"\n",
    "En su travesía, la Comunidad enfrenta numerosos peligros: desde orcos y traiciones hasta el constante acecho de Gollum, \n",
    "una criatura corrompida por el Anillo. \n",
    "\"\"\"\n",
    "chunk6 = \"\"\"\n",
    "La historia explora temas como la amistad, la corrupción del poder y la lucha entre\n",
    "el bien y el mal. Al final, tras arduas batallas y sacrificios, el Anillo es destruido y la paz retorna a la Tierra Media.\n",
    "\"\"\"\n"
   ]
  },
  {
   "cell_type": "code",
   "execution_count": 15,
   "id": "03537301",
   "metadata": {},
   "outputs": [
    {
     "name": "stdout",
     "output_type": "stream",
     "text": [
      "6\n",
      "384\n"
     ]
    }
   ],
   "source": [
    "sentences = [chunk1, chunk2, chunk3, chunk4, chunk5, chunk6]\n",
    "embeddings = model.encode(sentences, normalize_embeddings=True).tolist()\n",
    "\n",
    "print(len(sentences))\n",
    "print(len(embeddings[0]))"
   ]
  },
  {
   "cell_type": "code",
   "execution_count": 16,
   "id": "de1d6db0",
   "metadata": {},
   "outputs": [],
   "source": [
    "insert_embeddings = \"INSERT INTO chunks (keyword, embedding) VALUES %s\"\n",
    "data = [(sentence, embedding) for sentence, embedding in zip(sentences, embeddings)]\n",
    "with conn.cursor() as curs:\n",
    "    execute_values(\n",
    "                curs,\n",
    "                insert_embeddings,\n",
    "                data,\n",
    "                template=\"(%s, %s)\"\n",
    "            )"
   ]
  },
  {
   "cell_type": "code",
   "execution_count": 21,
   "id": "4fcb4704",
   "metadata": {},
   "outputs": [
    {
     "data": {
      "text/plain": [
       "[('\\npara dominar la Tierra Media. Acompañado por un grupo de aliados conocidos como la Comunidad del Anillo \\n',\n",
       "  0.462298136558964),\n",
       " ('\\nLa historia explora temas como la amistad, la corrupción del poder y la lucha entre\\nel bien y el mal. Al final, tras arduas batallas y sacrificios, el Anillo es destruido y la paz retorna a la Tierra Media.\\n',\n",
       "  0.4284088994630204),\n",
       " ('\\nincluyendo a Aragorn, Gandalf, Legolas, Gimli, Sam, Merry y Pippin, \\nFrodo debe viajar a Mordor para destruir el Anillo en el único lugar donde puede ser destruido: el Monte del Destino.\\n',\n",
       "  0.4005504012599963),\n",
       " ('\\nLa historia sigue a Frodo Bolsón, un hobbit que hereda un anillo poderoso y maligno creado por el Señor Oscuro, \\nSauron\\n',\n",
       "  0.3714124296378296),\n",
       " ('\\nEn su travesía, la Comunidad enfrenta numerosos peligros: desde orcos y traiciones hasta el constante acecho de Gollum, \\nuna criatura corrompida por el Anillo. \\n',\n",
       "  0.3212281369797021)]"
      ]
     },
     "execution_count": 21,
     "metadata": {},
     "output_type": "execute_result"
    }
   ],
   "source": [
    "data = str(model.encode(\"grupo de personajes\", normalize_embeddings=False).tolist())\n",
    "with conn.cursor() as curs:\n",
    "    curs.execute(\"\"\"\n",
    "            SELECT keyword,\n",
    "            1-(embedding <=> %(data)s) as similarity\n",
    "            FROM chunks\n",
    "            --WHERE 1-(embedding <=> %(data)s) >= 0.5\n",
    "            ORDER BY embedding <=> %(data)s\n",
    "            LIMIT 5;\n",
    "        \"\"\",\n",
    "        {\"data\": data}\n",
    "    )\n",
    "    result = [(keyword) for keyword in curs.fetchall()]\n",
    "result"
   ]
  },
  {
   "cell_type": "code",
   "execution_count": null,
   "id": "e0aceb38",
   "metadata": {},
   "outputs": [],
   "source": []
  }
 ],
 "metadata": {
  "kernelspec": {
   "display_name": "Python 3.10.8 ('venv': venv)",
   "language": "python",
   "name": "python3"
  },
  "language_info": {
   "codemirror_mode": {
    "name": "ipython",
    "version": 3
   },
   "file_extension": ".py",
   "mimetype": "text/x-python",
   "name": "python",
   "nbconvert_exporter": "python",
   "pygments_lexer": "ipython3",
   "version": "3.10.8"
  },
  "vscode": {
   "interpreter": {
    "hash": "ae2b1f0054b67a04ff4c4dc26e0c20dbe39d01b741cfb25c1b8ade628f10db5d"
   }
  }
 },
 "nbformat": 4,
 "nbformat_minor": 5
}
