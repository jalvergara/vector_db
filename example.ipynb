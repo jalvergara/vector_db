{
 "cells": [
  {
   "cell_type": "code",
   "execution_count": 1,
   "id": "972d07c5-a1f1-49c5-bfe9-b9b312aa74c8",
   "metadata": {},
   "outputs": [
    {
     "name": "stderr",
     "output_type": "stream",
     "text": [
      "c:\\Users\\User\\alejo\\vector_db\\vector_db\\venv\\lib\\site-packages\\sentence_transformers\\cross_encoder\\CrossEncoder.py:13: TqdmWarning: IProgress not found. Please update jupyter and ipywidgets. See https://ipywidgets.readthedocs.io/en/stable/user_install.html\n",
      "  from tqdm.autonotebook import tqdm, trange\n"
     ]
    }
   ],
   "source": [
    "import json\n",
    "import psycopg2\n",
    "import pandas as pd\n",
    "from psycopg2.extras import execute_batch\n",
    "from pathlib import Path\n",
    "from sentence_transformers import SentenceTransformer\n",
    "from psycopg2.extras import execute_values\n",
    "\n",
    "model = SentenceTransformer('sentence-transformers/all-MiniLM-L6-v2')\n",
    "\n",
    "# Database connection parameters\n",
    "DB_PARAMS = {\n",
    "    \"dbname\": \"postgres\",\n",
    "    \"user\": \"postgres\",\n",
    "    \"password\": \"postgres\",\n",
    "    \"host\": \"localhost\",\n",
    "    \"port\": \"5433\"  # Default is 5432\n",
    "}\n",
    "\n",
    "# Connect to PostgreSQL\n",
    "try:\n",
    "    conn = psycopg2.connect(**DB_PARAMS)\n",
    "    conn.autocommit = True\n",
    "    # cursor = conn.cursor()\n",
    "except Exception as e:\n",
    "    print(f\"Error connecting to database: {e}\")\n",
    "    exit(1)\n",
    "\n",
    "init_pgvector = \"CREATE EXTENSION IF NOT EXISTS vector;\" # execute this first\n",
    "create_table = \"\"\"CREATE TABLE \"example1\" (id bigserial PRIMARY KEY, keyword VARCHAR(100), embedding vector(384));\"\"\"\n",
    "insert_embeddings = \"INSERT INTO example1 (keyword, embedding) VALUES %s\""
   ]
  },
  {
   "cell_type": "code",
   "execution_count": null,
   "id": "5f72e6eb",
   "metadata": {},
   "outputs": [
    {
     "name": "stdout",
     "output_type": "stream",
     "text": [
      "[('example',), ('example1',)]\n"
     ]
    }
   ],
   "source": [
    "#install pgvector\n",
    "cur = conn.cursor()\n",
    "cur.execute(init_pgvector)\n",
    "cur.execute(create_table)\n",
    "conn.commit()\n",
    "cur.execute(\"select relname from pg_class where relkind='r' and relname !~ '^(pg_|sql_)';\")\n",
    "print(cur.fetchall())\n"
   ]
  },
  {
   "cell_type": "code",
   "execution_count": 2,
   "id": "027c9275-455d-4138-86cd-5d0c752d2f08",
   "metadata": {},
   "outputs": [],
   "source": [
    "#limite maximo es de 384 tokens\n",
    "sentences = [\"hello world\", \"hello python\", \"bye python\", \"la girafa es roja\", \"python\", \"bython\", \"el mico esta trepando\", \"mico\", \"el mico es cafe\"]\n",
    "embeddings = model.encode(sentences, normalize_embeddings=True).tolist()"
   ]
  },
  {
   "cell_type": "code",
   "execution_count": 3,
   "id": "49416638-2aaf-4d60-86b8-ca9473730623",
   "metadata": {},
   "outputs": [
    {
     "name": "stdout",
     "output_type": "stream",
     "text": [
      "9\n",
      "384\n"
     ]
    }
   ],
   "source": [
    "print(len(sentences))\n",
    "print(len(embeddings[0]))"
   ]
  },
  {
   "cell_type": "code",
   "execution_count": 4,
   "id": "ee30d286-26f4-4538-af9a-36b5467c7178",
   "metadata": {
    "scrolled": true
   },
   "outputs": [],
   "source": [
    "# embeddings = model.encode(sentences, normalize_embeddings=True).tolist()\n",
    "data = [(sentence, embedding) for sentence, embedding in zip(sentences, embeddings)]\n",
    "with conn.cursor() as curs:\n",
    "    execute_values(\n",
    "                curs,\n",
    "                insert_embeddings,\n",
    "                data,\n",
    "                template=\"(%s, %s)\"\n",
    "            )"
   ]
  },
  {
   "cell_type": "code",
   "execution_count": 5,
   "id": "ef1bf172-a515-4066-aeeb-3595f4f37613",
   "metadata": {},
   "outputs": [
    {
     "data": {
      "text/plain": [
       "[('python', 1.0),\n",
       " ('python', 1.0),\n",
       " ('hello python', 0.8450508713722229),\n",
       " ('hello python', 0.8450508713722229),\n",
       " ('bye python', 0.6831845045089722)]"
      ]
     },
     "execution_count": 5,
     "metadata": {},
     "output_type": "execute_result"
    }
   ],
   "source": [
    "data = str(model.encode(\"python\", normalize_embeddings=False).tolist())\n",
    "with conn.cursor() as curs:\n",
    "    curs.execute(\"\"\"\n",
    "            SELECT keyword,\n",
    "            1-(embedding <=> %(data)s) as similarity\n",
    "            FROM example\n",
    "            --WHERE 1-(embedding <=> %(data)s) >= 0.5\n",
    "            ORDER BY embedding <=> %(data)s\n",
    "            LIMIT 5;\n",
    "        \"\"\",\n",
    "        {\"data\": data}\n",
    "    )\n",
    "    result = [(keyword) for keyword in curs.fetchall()]\n",
    "result"
   ]
  },
  {
   "cell_type": "code",
   "execution_count": 6,
   "id": "5f81dfb7-90a1-4625-adbc-a6869399cd23",
   "metadata": {},
   "outputs": [],
   "source": [
    "with conn.cursor() as curs:\n",
    "    curs.execute(\"CREATE INDEX ON example USING ivfflat (embedding vector_cosine_ops) WITH (lists = 100);\")"
   ]
  },
  {
   "cell_type": "code",
   "execution_count": 25,
   "id": "6dd63f69",
   "metadata": {},
   "outputs": [
    {
     "data": {
      "text/html": [
       "<div>\n",
       "<style scoped>\n",
       "    .dataframe tbody tr th:only-of-type {\n",
       "        vertical-align: middle;\n",
       "    }\n",
       "\n",
       "    .dataframe tbody tr th {\n",
       "        vertical-align: top;\n",
       "    }\n",
       "\n",
       "    .dataframe thead th {\n",
       "        text-align: right;\n",
       "    }\n",
       "</style>\n",
       "<table border=\"1\" class=\"dataframe\">\n",
       "  <thead>\n",
       "    <tr style=\"text-align: right;\">\n",
       "      <th></th>\n",
       "      <th>id</th>\n",
       "      <th>keyword</th>\n",
       "      <th>vector</th>\n",
       "    </tr>\n",
       "  </thead>\n",
       "  <tbody>\n",
       "    <tr>\n",
       "      <th>0</th>\n",
       "      <td>1</td>\n",
       "      <td>hello world</td>\n",
       "      <td>[-0.03447727,0.031023229,0.006734971,0.0261089...</td>\n",
       "    </tr>\n",
       "    <tr>\n",
       "      <th>1</th>\n",
       "      <td>2</td>\n",
       "      <td>hello python</td>\n",
       "      <td>[-0.050150678,0.027626721,-0.014199368,0.05738...</td>\n",
       "    </tr>\n",
       "    <tr>\n",
       "      <th>2</th>\n",
       "      <td>3</td>\n",
       "      <td>bye python</td>\n",
       "      <td>[-0.0173582,0.055295315,0.044234786,0.05157163...</td>\n",
       "    </tr>\n",
       "    <tr>\n",
       "      <th>3</th>\n",
       "      <td>4</td>\n",
       "      <td>la girafa es roja</td>\n",
       "      <td>[-0.017561583,0.027168112,-0.05538615,0.040346...</td>\n",
       "    </tr>\n",
       "    <tr>\n",
       "      <th>4</th>\n",
       "      <td>5</td>\n",
       "      <td>python</td>\n",
       "      <td>[-0.05615145,0.017742552,-0.059133362,0.040266...</td>\n",
       "    </tr>\n",
       "  </tbody>\n",
       "</table>\n",
       "</div>"
      ],
      "text/plain": [
       "   id            keyword                                             vector\n",
       "0   1        hello world  [-0.03447727,0.031023229,0.006734971,0.0261089...\n",
       "1   2       hello python  [-0.050150678,0.027626721,-0.014199368,0.05738...\n",
       "2   3         bye python  [-0.0173582,0.055295315,0.044234786,0.05157163...\n",
       "3   4  la girafa es roja  [-0.017561583,0.027168112,-0.05538615,0.040346...\n",
       "4   5             python  [-0.05615145,0.017742552,-0.059133362,0.040266..."
      ]
     },
     "execution_count": 25,
     "metadata": {},
     "output_type": "execute_result"
    }
   ],
   "source": [
    "cur = conn.cursor()\n",
    "cur.execute(\"SELECT * FROM example1\")\n",
    "tuples_list = cur.fetchall()\n",
    "#print(tuples_list)\n",
    "\n",
    "df = pd.DataFrame(tuples_list, columns=[\"id\",\"keyword\",\"vector\"])\n",
    "df.head(5)"
   ]
  },
  {
   "cell_type": "code",
   "execution_count": 52,
   "id": "93584814",
   "metadata": {},
   "outputs": [
    {
     "ename": "ValueError",
     "evalue": "malformed node or string: [-0.03447727, 0.031023229, 0.006734971, 0.026108956, -0.039362054, -0.1603025, 0.06692399, -0.0064414283, -0.04745049, 0.014758861, 0.070875295, 0.05552758, 0.019193375, -0.026251333, -0.01010954, -0.026940506, 0.022307457, -0.022226686, -0.1496926, -0.017493034, 0.0076762526, 0.054352295, 0.0032544436, 0.031725906, -0.08462135, -0.029406007, 0.05159558, 0.048124082, -0.0033147954, -0.058279198, 0.04196929, 0.022210686, 0.12818883, -0.022338957, -0.011656217, 0.062928334, -0.03287631, -0.091226056, -0.031175377, 0.05269955, 0.0470348, -0.084203094, -0.030056167, -0.02074481, 0.009517839, -0.0037218125, 0.007343314, 0.039324336, 0.093274035, -0.0037885893, -0.052742094, -0.05805821, -0.0068643717, 0.0052832714, 0.08289297, 0.019362831, 0.006284503, -0.010330768, 0.009032373, -0.037683733, -0.04520607, 0.024016323, -0.006944155, 0.013491643, 0.10005486, -0.07168391, -0.021695092, 0.03161841, -0.051634617, -0.082247764, -0.06569329, -0.009895369, 0.005816376, 0.0735546, -0.034050286, 0.024886087, 0.014488119, 0.026457386, 0.009656749, 0.030217245, 0.052803975, -0.07535987, 0.009897141, 0.029836833, 0.017555563, 0.023091994, 0.0019338616, 0.0014002392, -0.047175948, -0.011194309, -0.114201404, -0.019811928, 0.04026621, 0.0021929985, -0.0797922, -0.025382321, 0.09448301, -0.028981108, -0.14500257, 0.23097746, 0.027731156, 0.03211152, 0.031065047, 0.042832874, 0.06423779, 0.03216321, -0.004876744, 0.05569943, -0.037532415, -0.021505516, -0.02834265, -0.028846953, 0.038353045, -0.017468644, 0.05248531, -0.074876025, -0.03125975, 0.02184157, -0.03989569, -0.008587065, 0.026956527, -0.048495486, 0.0114698745, 0.02961826, -0.020572208, 0.0131038455, 0.028833456, -3.194199e-33, 0.064782135, -0.01813022, 0.05178991, 0.121982746, 0.02878016, 0.00872198, -0.07052119, -0.016907321, 0.040739674, 0.04211619, 0.025447167, 0.035746258, -0.04914478, 0.0021290418, -0.015546542, 0.05073059, -0.048185244, 0.03588061, -0.004067046, 0.10172473, -0.055970006, -0.010681048, 0.011235791, 0.09068652, 0.004234447, 0.035138693, -0.009702851, -0.093865186, 0.092855595, 0.0080049345, -0.007705391, -0.052086715, -0.0125880195, 0.0032669476, 0.0060135256, 0.0075815828, 0.010517144, -0.08634556, -0.06987879, -0.0025339008, -0.0909766, 0.046887293, 0.052076533, 0.007193838, 0.010903631, -0.0052295118, 0.013937317, 0.021968327, 0.03420856, 0.06022471, 0.0001166287, 0.014732014, -0.070089236, 0.028499085, -0.027601719, 0.010768415, 0.034830917, -0.022487888, 0.0097690625, 0.0772278, 0.021588406, 0.11495623, -0.06800117, 0.02376095, -0.015983969, -0.01782696, 0.06439487, 0.032025676, 0.050270278, -0.0059137046, -0.03370804, 0.017840274, 0.016573349, 0.06329653, 0.03467719, 0.04647347, 0.09790612, -0.0066355206, 0.025207091, -0.07798831, 0.01692645, -0.0009458001, 0.022471858, -0.03825319, 0.09570478, -0.005350807, 0.010469062, -0.115240544, -0.013262538, -0.010709436, -0.08311731, 0.07327359, 0.049392264, -0.008994344, -0.095845595, 3.3661493e-33, 0.12493183, 0.019349722, -0.05822576, -0.035988245, -0.050746743, -0.045662414, -0.082603365, 0.14819477, -0.08842121, 0.060274433, 0.05103016, 0.010303189, 0.14121422, 0.030813828, 0.0610331, -0.052851237, 0.13664895, 0.009189892, -0.017325232, -0.012848629, -0.007995269, -0.05098006, -0.052350637, 0.007593023, -0.015166365, 0.016960315, 0.021270562, 0.020558035, -0.12002814, 0.014461805, 0.026759928, 0.02533069, -0.04275463, 0.0067684664, -0.014458545, 0.045261968, -0.091476545, -0.019439096, -0.017833486, -0.054910176, -0.052641056, -0.010459077, -0.05201606, 0.020891989, -0.07997032, -0.01211131, -0.0577314, 0.02317825, -0.008031736, -0.025989288, -0.07995674, -0.020728845, 0.048817642, -0.020389147, -0.0491766, 0.0141596915, -0.063622035, -0.0078074057, 0.01643153, -0.025682492, 0.013381166, 0.02624878, 0.009978411, 0.06322888, 0.00267219, -0.006582785, 0.016631931, 0.032366455, 0.037942518, -0.03637604, -0.006910864, 0.00015970584, -0.0016334952, -0.027278189, -0.02803813, 0.049681455, -0.02886723, -0.002418075, 0.014774918, 0.009764575, 0.005797604, 0.0134861665, 0.005567906, 0.03722711, 0.007232497, 0.040156234, 0.08150331, 0.07199169, -0.013056158, -0.042882044, -0.011011214, 0.00489779, -0.009229707, 0.03519152, -0.05103506, -1.571438e-08, -0.088624395, 0.023909308, -0.016238755, 0.031700518, 0.027284278, 0.052468795, -0.047071014, -0.058847513, -0.06320818, 0.040888563, 0.049828034, 0.10655168, -0.07450239, -0.012495374, 0.018370701, 0.039474104, -0.024797896, 0.0145163, -0.037069198, 0.020015689, -4.85896e-05, 0.009866573, 0.024838768, -0.052458182, 0.029314188, -0.0871919, -0.014499757, 0.02601911, -0.018746357, -0.0762052, 0.03504326, 0.103639536, -0.028050505, 0.012718171, -0.07632548, -0.018652355, 0.024976725, 0.08144535, 0.068758845, -0.064056635, -0.08389384, 0.061362334, -0.03354556, -0.106153384, -0.04008058, 0.03253021, 0.07662487, -0.07301625, 0.00033765417, -0.040871613, -0.075788505, 0.027527638, 0.07462542, 0.017717304, 0.0912185, 0.1102202, 0.0005698155, 0.051463317, -0.014551324, 0.03323203, 0.023792308, -0.02288983, 0.03893752, 0.03020686]",
     "output_type": "error",
     "traceback": [
      "\u001b[1;31m---------------------------------------------------------------------------\u001b[0m",
      "\u001b[1;31mValueError\u001b[0m                                Traceback (most recent call last)",
      "Cell \u001b[1;32mIn[52], line 3\u001b[0m\n\u001b[0;32m      1\u001b[0m \u001b[39mfrom\u001b[39;00m \u001b[39mast\u001b[39;00m \u001b[39mimport\u001b[39;00m literal_eval\n\u001b[1;32m----> 3\u001b[0m df[\u001b[39m\"\u001b[39m\u001b[39mvector\u001b[39m\u001b[39m\"\u001b[39m] \u001b[39m=\u001b[39m df\u001b[39m.\u001b[39;49mvector\u001b[39m.\u001b[39;49mapply(literal_eval)\n\u001b[0;32m      5\u001b[0m df[\u001b[39m\"\u001b[39m\u001b[39mvector_length\u001b[39m\u001b[39m\"\u001b[39m] \u001b[39m=\u001b[39m df[\u001b[39m\"\u001b[39m\u001b[39mvector\u001b[39m\u001b[39m\"\u001b[39m]\u001b[39m.\u001b[39mapply(\u001b[39mlen\u001b[39m)\n",
      "File \u001b[1;32mc:\\Users\\User\\alejo\\vector_db\\vector_db\\venv\\lib\\site-packages\\pandas\\core\\series.py:4924\u001b[0m, in \u001b[0;36mSeries.apply\u001b[1;34m(self, func, convert_dtype, args, by_row, **kwargs)\u001b[0m\n\u001b[0;32m   4789\u001b[0m \u001b[39mdef\u001b[39;00m \u001b[39mapply\u001b[39m(\n\u001b[0;32m   4790\u001b[0m     \u001b[39mself\u001b[39m,\n\u001b[0;32m   4791\u001b[0m     func: AggFuncType,\n\u001b[1;32m   (...)\u001b[0m\n\u001b[0;32m   4796\u001b[0m     \u001b[39m*\u001b[39m\u001b[39m*\u001b[39mkwargs,\n\u001b[0;32m   4797\u001b[0m ) \u001b[39m-\u001b[39m\u001b[39m>\u001b[39m DataFrame \u001b[39m|\u001b[39m Series:\n\u001b[0;32m   4798\u001b[0m \u001b[39m    \u001b[39m\u001b[39m\"\"\"\u001b[39;00m\n\u001b[0;32m   4799\u001b[0m \u001b[39m    Invoke function on values of Series.\u001b[39;00m\n\u001b[0;32m   4800\u001b[0m \n\u001b[1;32m   (...)\u001b[0m\n\u001b[0;32m   4915\u001b[0m \u001b[39m    dtype: float64\u001b[39;00m\n\u001b[0;32m   4916\u001b[0m \u001b[39m    \"\"\"\u001b[39;00m\n\u001b[0;32m   4917\u001b[0m     \u001b[39mreturn\u001b[39;00m SeriesApply(\n\u001b[0;32m   4918\u001b[0m         \u001b[39mself\u001b[39;49m,\n\u001b[0;32m   4919\u001b[0m         func,\n\u001b[0;32m   4920\u001b[0m         convert_dtype\u001b[39m=\u001b[39;49mconvert_dtype,\n\u001b[0;32m   4921\u001b[0m         by_row\u001b[39m=\u001b[39;49mby_row,\n\u001b[0;32m   4922\u001b[0m         args\u001b[39m=\u001b[39;49margs,\n\u001b[0;32m   4923\u001b[0m         kwargs\u001b[39m=\u001b[39;49mkwargs,\n\u001b[1;32m-> 4924\u001b[0m     )\u001b[39m.\u001b[39;49mapply()\n",
      "File \u001b[1;32mc:\\Users\\User\\alejo\\vector_db\\vector_db\\venv\\lib\\site-packages\\pandas\\core\\apply.py:1427\u001b[0m, in \u001b[0;36mSeriesApply.apply\u001b[1;34m(self)\u001b[0m\n\u001b[0;32m   1424\u001b[0m     \u001b[39mreturn\u001b[39;00m \u001b[39mself\u001b[39m\u001b[39m.\u001b[39mapply_compat()\n\u001b[0;32m   1426\u001b[0m \u001b[39m# self.func is Callable\u001b[39;00m\n\u001b[1;32m-> 1427\u001b[0m \u001b[39mreturn\u001b[39;00m \u001b[39mself\u001b[39;49m\u001b[39m.\u001b[39;49mapply_standard()\n",
      "File \u001b[1;32mc:\\Users\\User\\alejo\\vector_db\\vector_db\\venv\\lib\\site-packages\\pandas\\core\\apply.py:1507\u001b[0m, in \u001b[0;36mSeriesApply.apply_standard\u001b[1;34m(self)\u001b[0m\n\u001b[0;32m   1501\u001b[0m \u001b[39m# row-wise access\u001b[39;00m\n\u001b[0;32m   1502\u001b[0m \u001b[39m# apply doesn't have a `na_action` keyword and for backward compat reasons\u001b[39;00m\n\u001b[0;32m   1503\u001b[0m \u001b[39m# we need to give `na_action=\"ignore\"` for categorical data.\u001b[39;00m\n\u001b[0;32m   1504\u001b[0m \u001b[39m# TODO: remove the `na_action=\"ignore\"` when that default has been changed in\u001b[39;00m\n\u001b[0;32m   1505\u001b[0m \u001b[39m#  Categorical (GH51645).\u001b[39;00m\n\u001b[0;32m   1506\u001b[0m action \u001b[39m=\u001b[39m \u001b[39m\"\u001b[39m\u001b[39mignore\u001b[39m\u001b[39m\"\u001b[39m \u001b[39mif\u001b[39;00m \u001b[39misinstance\u001b[39m(obj\u001b[39m.\u001b[39mdtype, CategoricalDtype) \u001b[39melse\u001b[39;00m \u001b[39mNone\u001b[39;00m\n\u001b[1;32m-> 1507\u001b[0m mapped \u001b[39m=\u001b[39m obj\u001b[39m.\u001b[39;49m_map_values(\n\u001b[0;32m   1508\u001b[0m     mapper\u001b[39m=\u001b[39;49mcurried, na_action\u001b[39m=\u001b[39;49maction, convert\u001b[39m=\u001b[39;49m\u001b[39mself\u001b[39;49m\u001b[39m.\u001b[39;49mconvert_dtype\n\u001b[0;32m   1509\u001b[0m )\n\u001b[0;32m   1511\u001b[0m \u001b[39mif\u001b[39;00m \u001b[39mlen\u001b[39m(mapped) \u001b[39mand\u001b[39;00m \u001b[39misinstance\u001b[39m(mapped[\u001b[39m0\u001b[39m], ABCSeries):\n\u001b[0;32m   1512\u001b[0m     \u001b[39m# GH#43986 Need to do list(mapped) in order to get treated as nested\u001b[39;00m\n\u001b[0;32m   1513\u001b[0m     \u001b[39m#  See also GH#25959 regarding EA support\u001b[39;00m\n\u001b[0;32m   1514\u001b[0m     \u001b[39mreturn\u001b[39;00m obj\u001b[39m.\u001b[39m_constructor_expanddim(\u001b[39mlist\u001b[39m(mapped), index\u001b[39m=\u001b[39mobj\u001b[39m.\u001b[39mindex)\n",
      "File \u001b[1;32mc:\\Users\\User\\alejo\\vector_db\\vector_db\\venv\\lib\\site-packages\\pandas\\core\\base.py:921\u001b[0m, in \u001b[0;36mIndexOpsMixin._map_values\u001b[1;34m(self, mapper, na_action, convert)\u001b[0m\n\u001b[0;32m    918\u001b[0m \u001b[39mif\u001b[39;00m \u001b[39misinstance\u001b[39m(arr, ExtensionArray):\n\u001b[0;32m    919\u001b[0m     \u001b[39mreturn\u001b[39;00m arr\u001b[39m.\u001b[39mmap(mapper, na_action\u001b[39m=\u001b[39mna_action)\n\u001b[1;32m--> 921\u001b[0m \u001b[39mreturn\u001b[39;00m algorithms\u001b[39m.\u001b[39;49mmap_array(arr, mapper, na_action\u001b[39m=\u001b[39;49mna_action, convert\u001b[39m=\u001b[39;49mconvert)\n",
      "File \u001b[1;32mc:\\Users\\User\\alejo\\vector_db\\vector_db\\venv\\lib\\site-packages\\pandas\\core\\algorithms.py:1743\u001b[0m, in \u001b[0;36mmap_array\u001b[1;34m(arr, mapper, na_action, convert)\u001b[0m\n\u001b[0;32m   1741\u001b[0m values \u001b[39m=\u001b[39m arr\u001b[39m.\u001b[39mastype(\u001b[39mobject\u001b[39m, copy\u001b[39m=\u001b[39m\u001b[39mFalse\u001b[39;00m)\n\u001b[0;32m   1742\u001b[0m \u001b[39mif\u001b[39;00m na_action \u001b[39mis\u001b[39;00m \u001b[39mNone\u001b[39;00m:\n\u001b[1;32m-> 1743\u001b[0m     \u001b[39mreturn\u001b[39;00m lib\u001b[39m.\u001b[39;49mmap_infer(values, mapper, convert\u001b[39m=\u001b[39;49mconvert)\n\u001b[0;32m   1744\u001b[0m \u001b[39melse\u001b[39;00m:\n\u001b[0;32m   1745\u001b[0m     \u001b[39mreturn\u001b[39;00m lib\u001b[39m.\u001b[39mmap_infer_mask(\n\u001b[0;32m   1746\u001b[0m         values, mapper, mask\u001b[39m=\u001b[39misna(values)\u001b[39m.\u001b[39mview(np\u001b[39m.\u001b[39muint8), convert\u001b[39m=\u001b[39mconvert\n\u001b[0;32m   1747\u001b[0m     )\n",
      "File \u001b[1;32mlib.pyx:2972\u001b[0m, in \u001b[0;36mpandas._libs.lib.map_infer\u001b[1;34m()\u001b[0m\n",
      "File \u001b[1;32m~\\AppData\\Local\\Programs\\Python\\Python310\\lib\\ast.py:110\u001b[0m, in \u001b[0;36mliteral_eval\u001b[1;34m(node_or_string)\u001b[0m\n\u001b[0;32m    108\u001b[0m                 \u001b[39mreturn\u001b[39;00m left \u001b[39m-\u001b[39m right\n\u001b[0;32m    109\u001b[0m     \u001b[39mreturn\u001b[39;00m _convert_signed_num(node)\n\u001b[1;32m--> 110\u001b[0m \u001b[39mreturn\u001b[39;00m _convert(node_or_string)\n",
      "File \u001b[1;32m~\\AppData\\Local\\Programs\\Python\\Python310\\lib\\ast.py:109\u001b[0m, in \u001b[0;36mliteral_eval.<locals>._convert\u001b[1;34m(node)\u001b[0m\n\u001b[0;32m    107\u001b[0m         \u001b[39melse\u001b[39;00m:\n\u001b[0;32m    108\u001b[0m             \u001b[39mreturn\u001b[39;00m left \u001b[39m-\u001b[39m right\n\u001b[1;32m--> 109\u001b[0m \u001b[39mreturn\u001b[39;00m _convert_signed_num(node)\n",
      "File \u001b[1;32m~\\AppData\\Local\\Programs\\Python\\Python310\\lib\\ast.py:83\u001b[0m, in \u001b[0;36mliteral_eval.<locals>._convert_signed_num\u001b[1;34m(node)\u001b[0m\n\u001b[0;32m     81\u001b[0m     \u001b[39melse\u001b[39;00m:\n\u001b[0;32m     82\u001b[0m         \u001b[39mreturn\u001b[39;00m \u001b[39m-\u001b[39m operand\n\u001b[1;32m---> 83\u001b[0m \u001b[39mreturn\u001b[39;00m _convert_num(node)\n",
      "File \u001b[1;32m~\\AppData\\Local\\Programs\\Python\\Python310\\lib\\ast.py:74\u001b[0m, in \u001b[0;36mliteral_eval.<locals>._convert_num\u001b[1;34m(node)\u001b[0m\n\u001b[0;32m     72\u001b[0m \u001b[39mdef\u001b[39;00m \u001b[39m_convert_num\u001b[39m(node):\n\u001b[0;32m     73\u001b[0m     \u001b[39mif\u001b[39;00m \u001b[39mnot\u001b[39;00m \u001b[39misinstance\u001b[39m(node, Constant) \u001b[39mor\u001b[39;00m \u001b[39mtype\u001b[39m(node\u001b[39m.\u001b[39mvalue) \u001b[39mnot\u001b[39;00m \u001b[39min\u001b[39;00m (\u001b[39mint\u001b[39m, \u001b[39mfloat\u001b[39m, \u001b[39mcomplex\u001b[39m):\n\u001b[1;32m---> 74\u001b[0m         _raise_malformed_node(node)\n\u001b[0;32m     75\u001b[0m     \u001b[39mreturn\u001b[39;00m node\u001b[39m.\u001b[39mvalue\n",
      "File \u001b[1;32m~\\AppData\\Local\\Programs\\Python\\Python310\\lib\\ast.py:71\u001b[0m, in \u001b[0;36mliteral_eval.<locals>._raise_malformed_node\u001b[1;34m(node)\u001b[0m\n\u001b[0;32m     69\u001b[0m \u001b[39mif\u001b[39;00m lno \u001b[39m:=\u001b[39m \u001b[39mgetattr\u001b[39m(node, \u001b[39m'\u001b[39m\u001b[39mlineno\u001b[39m\u001b[39m'\u001b[39m, \u001b[39mNone\u001b[39;00m):\n\u001b[0;32m     70\u001b[0m     msg \u001b[39m+\u001b[39m\u001b[39m=\u001b[39m \u001b[39mf\u001b[39m\u001b[39m'\u001b[39m\u001b[39m on line \u001b[39m\u001b[39m{\u001b[39;00mlno\u001b[39m}\u001b[39;00m\u001b[39m'\u001b[39m\n\u001b[1;32m---> 71\u001b[0m \u001b[39mraise\u001b[39;00m \u001b[39mValueError\u001b[39;00m(msg \u001b[39m+\u001b[39m \u001b[39mf\u001b[39m\u001b[39m'\u001b[39m\u001b[39m: \u001b[39m\u001b[39m{\u001b[39;00mnode\u001b[39m!r}\u001b[39;00m\u001b[39m'\u001b[39m)\n",
      "\u001b[1;31mValueError\u001b[0m: malformed node or string: [-0.03447727, 0.031023229, 0.006734971, 0.026108956, -0.039362054, -0.1603025, 0.06692399, -0.0064414283, -0.04745049, 0.014758861, 0.070875295, 0.05552758, 0.019193375, -0.026251333, -0.01010954, -0.026940506, 0.022307457, -0.022226686, -0.1496926, -0.017493034, 0.0076762526, 0.054352295, 0.0032544436, 0.031725906, -0.08462135, -0.029406007, 0.05159558, 0.048124082, -0.0033147954, -0.058279198, 0.04196929, 0.022210686, 0.12818883, -0.022338957, -0.011656217, 0.062928334, -0.03287631, -0.091226056, -0.031175377, 0.05269955, 0.0470348, -0.084203094, -0.030056167, -0.02074481, 0.009517839, -0.0037218125, 0.007343314, 0.039324336, 0.093274035, -0.0037885893, -0.052742094, -0.05805821, -0.0068643717, 0.0052832714, 0.08289297, 0.019362831, 0.006284503, -0.010330768, 0.009032373, -0.037683733, -0.04520607, 0.024016323, -0.006944155, 0.013491643, 0.10005486, -0.07168391, -0.021695092, 0.03161841, -0.051634617, -0.082247764, -0.06569329, -0.009895369, 0.005816376, 0.0735546, -0.034050286, 0.024886087, 0.014488119, 0.026457386, 0.009656749, 0.030217245, 0.052803975, -0.07535987, 0.009897141, 0.029836833, 0.017555563, 0.023091994, 0.0019338616, 0.0014002392, -0.047175948, -0.011194309, -0.114201404, -0.019811928, 0.04026621, 0.0021929985, -0.0797922, -0.025382321, 0.09448301, -0.028981108, -0.14500257, 0.23097746, 0.027731156, 0.03211152, 0.031065047, 0.042832874, 0.06423779, 0.03216321, -0.004876744, 0.05569943, -0.037532415, -0.021505516, -0.02834265, -0.028846953, 0.038353045, -0.017468644, 0.05248531, -0.074876025, -0.03125975, 0.02184157, -0.03989569, -0.008587065, 0.026956527, -0.048495486, 0.0114698745, 0.02961826, -0.020572208, 0.0131038455, 0.028833456, -3.194199e-33, 0.064782135, -0.01813022, 0.05178991, 0.121982746, 0.02878016, 0.00872198, -0.07052119, -0.016907321, 0.040739674, 0.04211619, 0.025447167, 0.035746258, -0.04914478, 0.0021290418, -0.015546542, 0.05073059, -0.048185244, 0.03588061, -0.004067046, 0.10172473, -0.055970006, -0.010681048, 0.011235791, 0.09068652, 0.004234447, 0.035138693, -0.009702851, -0.093865186, 0.092855595, 0.0080049345, -0.007705391, -0.052086715, -0.0125880195, 0.0032669476, 0.0060135256, 0.0075815828, 0.010517144, -0.08634556, -0.06987879, -0.0025339008, -0.0909766, 0.046887293, 0.052076533, 0.007193838, 0.010903631, -0.0052295118, 0.013937317, 0.021968327, 0.03420856, 0.06022471, 0.0001166287, 0.014732014, -0.070089236, 0.028499085, -0.027601719, 0.010768415, 0.034830917, -0.022487888, 0.0097690625, 0.0772278, 0.021588406, 0.11495623, -0.06800117, 0.02376095, -0.015983969, -0.01782696, 0.06439487, 0.032025676, 0.050270278, -0.0059137046, -0.03370804, 0.017840274, 0.016573349, 0.06329653, 0.03467719, 0.04647347, 0.09790612, -0.0066355206, 0.025207091, -0.07798831, 0.01692645, -0.0009458001, 0.022471858, -0.03825319, 0.09570478, -0.005350807, 0.010469062, -0.115240544, -0.013262538, -0.010709436, -0.08311731, 0.07327359, 0.049392264, -0.008994344, -0.095845595, 3.3661493e-33, 0.12493183, 0.019349722, -0.05822576, -0.035988245, -0.050746743, -0.045662414, -0.082603365, 0.14819477, -0.08842121, 0.060274433, 0.05103016, 0.010303189, 0.14121422, 0.030813828, 0.0610331, -0.052851237, 0.13664895, 0.009189892, -0.017325232, -0.012848629, -0.007995269, -0.05098006, -0.052350637, 0.007593023, -0.015166365, 0.016960315, 0.021270562, 0.020558035, -0.12002814, 0.014461805, 0.026759928, 0.02533069, -0.04275463, 0.0067684664, -0.014458545, 0.045261968, -0.091476545, -0.019439096, -0.017833486, -0.054910176, -0.052641056, -0.010459077, -0.05201606, 0.020891989, -0.07997032, -0.01211131, -0.0577314, 0.02317825, -0.008031736, -0.025989288, -0.07995674, -0.020728845, 0.048817642, -0.020389147, -0.0491766, 0.0141596915, -0.063622035, -0.0078074057, 0.01643153, -0.025682492, 0.013381166, 0.02624878, 0.009978411, 0.06322888, 0.00267219, -0.006582785, 0.016631931, 0.032366455, 0.037942518, -0.03637604, -0.006910864, 0.00015970584, -0.0016334952, -0.027278189, -0.02803813, 0.049681455, -0.02886723, -0.002418075, 0.014774918, 0.009764575, 0.005797604, 0.0134861665, 0.005567906, 0.03722711, 0.007232497, 0.040156234, 0.08150331, 0.07199169, -0.013056158, -0.042882044, -0.011011214, 0.00489779, -0.009229707, 0.03519152, -0.05103506, -1.571438e-08, -0.088624395, 0.023909308, -0.016238755, 0.031700518, 0.027284278, 0.052468795, -0.047071014, -0.058847513, -0.06320818, 0.040888563, 0.049828034, 0.10655168, -0.07450239, -0.012495374, 0.018370701, 0.039474104, -0.024797896, 0.0145163, -0.037069198, 0.020015689, -4.85896e-05, 0.009866573, 0.024838768, -0.052458182, 0.029314188, -0.0871919, -0.014499757, 0.02601911, -0.018746357, -0.0762052, 0.03504326, 0.103639536, -0.028050505, 0.012718171, -0.07632548, -0.018652355, 0.024976725, 0.08144535, 0.068758845, -0.064056635, -0.08389384, 0.061362334, -0.03354556, -0.106153384, -0.04008058, 0.03253021, 0.07662487, -0.07301625, 0.00033765417, -0.040871613, -0.075788505, 0.027527638, 0.07462542, 0.017717304, 0.0912185, 0.1102202, 0.0005698155, 0.051463317, -0.014551324, 0.03323203, 0.023792308, -0.02288983, 0.03893752, 0.03020686]"
     ]
    }
   ],
   "source": [
    "from ast import literal_eval\n",
    "\n",
    "df[\"vector\"] = df.vector.apply(literal_eval)\n",
    "\n",
    "df[\"vector_length\"] = df[\"vector\"].apply(len)"
   ]
  },
  {
   "cell_type": "code",
   "execution_count": null,
   "id": "40395f76",
   "metadata": {},
   "outputs": [
    {
     "data": {
      "text/html": [
       "<div>\n",
       "<style scoped>\n",
       "    .dataframe tbody tr th:only-of-type {\n",
       "        vertical-align: middle;\n",
       "    }\n",
       "\n",
       "    .dataframe tbody tr th {\n",
       "        vertical-align: top;\n",
       "    }\n",
       "\n",
       "    .dataframe thead th {\n",
       "        text-align: right;\n",
       "    }\n",
       "</style>\n",
       "<table border=\"1\" class=\"dataframe\">\n",
       "  <thead>\n",
       "    <tr style=\"text-align: right;\">\n",
       "      <th></th>\n",
       "      <th>id</th>\n",
       "      <th>keyword</th>\n",
       "      <th>vector</th>\n",
       "      <th>vector_length</th>\n",
       "    </tr>\n",
       "  </thead>\n",
       "  <tbody>\n",
       "    <tr>\n",
       "      <th>0</th>\n",
       "      <td>1</td>\n",
       "      <td>hello world</td>\n",
       "      <td>[-0.03447727, 0.031023229, 0.006734971, 0.0261...</td>\n",
       "      <td>384</td>\n",
       "    </tr>\n",
       "    <tr>\n",
       "      <th>1</th>\n",
       "      <td>2</td>\n",
       "      <td>hello python</td>\n",
       "      <td>[-0.050150678, 0.027626721, -0.014199368, 0.05...</td>\n",
       "      <td>384</td>\n",
       "    </tr>\n",
       "    <tr>\n",
       "      <th>2</th>\n",
       "      <td>3</td>\n",
       "      <td>bye python</td>\n",
       "      <td>[-0.0173582, 0.055295315, 0.044234786, 0.05157...</td>\n",
       "      <td>384</td>\n",
       "    </tr>\n",
       "    <tr>\n",
       "      <th>3</th>\n",
       "      <td>4</td>\n",
       "      <td>la girafa es roja</td>\n",
       "      <td>[-0.017561583, 0.027168112, -0.05538615, 0.040...</td>\n",
       "      <td>384</td>\n",
       "    </tr>\n",
       "    <tr>\n",
       "      <th>4</th>\n",
       "      <td>5</td>\n",
       "      <td>python</td>\n",
       "      <td>[-0.05615145, 0.017742552, -0.059133362, 0.040...</td>\n",
       "      <td>384</td>\n",
       "    </tr>\n",
       "  </tbody>\n",
       "</table>\n",
       "</div>"
      ],
      "text/plain": [
       "   id            keyword                                             vector  \\\n",
       "0   1        hello world  [-0.03447727, 0.031023229, 0.006734971, 0.0261...   \n",
       "1   2       hello python  [-0.050150678, 0.027626721, -0.014199368, 0.05...   \n",
       "2   3         bye python  [-0.0173582, 0.055295315, 0.044234786, 0.05157...   \n",
       "3   4  la girafa es roja  [-0.017561583, 0.027168112, -0.05538615, 0.040...   \n",
       "4   5             python  [-0.05615145, 0.017742552, -0.059133362, 0.040...   \n",
       "\n",
       "   vector_length  \n",
       "0            384  \n",
       "1            384  \n",
       "2            384  \n",
       "3            384  \n",
       "4            384  "
      ]
     },
     "execution_count": 50,
     "metadata": {},
     "output_type": "execute_result"
    }
   ],
   "source": [
    "df.head(5)"
   ]
  },
  {
   "cell_type": "code",
   "execution_count": null,
   "id": "6149db5b",
   "metadata": {},
   "outputs": [],
   "source": []
  },
  {
   "cell_type": "code",
   "execution_count": null,
   "id": "a8ff00e0",
   "metadata": {},
   "outputs": [],
   "source": []
  }
 ],
 "metadata": {
  "kernelspec": {
   "display_name": "Python 3.10.8 ('venv': venv)",
   "language": "python",
   "name": "python3"
  },
  "language_info": {
   "codemirror_mode": {
    "name": "ipython",
    "version": 3
   },
   "file_extension": ".py",
   "mimetype": "text/x-python",
   "name": "python",
   "nbconvert_exporter": "python",
   "pygments_lexer": "ipython3",
   "version": "3.10.8"
  },
  "vscode": {
   "interpreter": {
    "hash": "ae2b1f0054b67a04ff4c4dc26e0c20dbe39d01b741cfb25c1b8ade628f10db5d"
   }
  }
 },
 "nbformat": 4,
 "nbformat_minor": 5
}
