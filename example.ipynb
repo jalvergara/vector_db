{
 "cells": [
  {
   "cell_type": "code",
   "execution_count": 1,
   "id": "972d07c5-a1f1-49c5-bfe9-b9b312aa74c8",
   "metadata": {},
   "outputs": [
    {
     "name": "stderr",
     "output_type": "stream",
     "text": [
      "c:\\Users\\User\\alejo\\vector_db\\vector_db\\venv\\lib\\site-packages\\sentence_transformers\\cross_encoder\\CrossEncoder.py:13: TqdmWarning: IProgress not found. Please update jupyter and ipywidgets. See https://ipywidgets.readthedocs.io/en/stable/user_install.html\n",
      "  from tqdm.autonotebook import tqdm, trange\n"
     ]
    }
   ],
   "source": [
    "import json\n",
    "import psycopg2\n",
    "from psycopg2.extras import execute_batch\n",
    "from pathlib import Path\n",
    "from sentence_transformers import SentenceTransformer\n",
    "from psycopg2.extras import execute_values\n",
    "\n",
    "model = SentenceTransformer('sentence-transformers/all-MiniLM-L6-v2')\n",
    "\n",
    "# Database connection parameters\n",
    "DB_PARAMS = {\n",
    "    \"dbname\": \"postgres\",\n",
    "    \"user\": \"postgres\",\n",
    "    \"password\": \"postgres\",\n",
    "    \"host\": \"localhost\",\n",
    "    \"port\": \"5433\"  # Default is 5432\n",
    "}\n",
    "\n",
    "# Connect to PostgreSQL\n",
    "try:\n",
    "    conn = psycopg2.connect(**DB_PARAMS)\n",
    "    conn.autocommit = True\n",
    "    # cursor = conn.cursor()\n",
    "except Exception as e:\n",
    "    print(f\"Error connecting to database: {e}\")\n",
    "    exit(1)\n",
    "\n",
    "init_pgvector = \"CREATE EXTENSION IF NOT EXISTS vector;\" # execute this first\n",
    "create_table = \"\"\"CREATE TABLE \"example\" (id bigserial PRIMARY KEY, keyword VARCHAR(100), embedding vector(384));\"\"\"\n",
    "insert_embeddings = \"INSERT INTO example (keyword, embedding) VALUES %s\""
   ]
  },
  {
   "cell_type": "code",
   "execution_count": 5,
   "id": "027c9275-455d-4138-86cd-5d0c752d2f08",
   "metadata": {},
   "outputs": [],
   "source": [
    "#limite maximo es de 384 tokens\n",
    "sentences = [\"hello world\", \"hello python\", \"bye python\", \"la girafa es roja\", \"python\", \"bython\", \"el mico esta en nz\", \"mico god\", \"el mico es cafe\", \"yom es un lloron\", \"a yom nada le gusta\"]\n",
    "embeddings = model.encode(sentences, normalize_embeddings=True).tolist()"
   ]
  },
  {
   "cell_type": "code",
   "execution_count": 2,
   "id": "5f72e6eb",
   "metadata": {},
   "outputs": [],
   "source": [
    "cur = conn.cursor()\n",
    "#install pgvector\n",
    "cur.execute(init_pgvector)\n",
    "conn.commit()\n"
   ]
  },
  {
   "cell_type": "code",
   "execution_count": 7,
   "id": "14078262",
   "metadata": {},
   "outputs": [
    {
     "name": "stdout",
     "output_type": "stream",
     "text": [
      "[('example',)]\n"
     ]
    }
   ],
   "source": [
    "cursor = conn.cursor()\n",
    "cursor.execute(\"select relname from pg_class where relkind='r' and relname !~ '^(pg_|sql_)';\")\n",
    "print(cursor.fetchall())"
   ]
  },
  {
   "cell_type": "code",
   "execution_count": 23,
   "id": "49416638-2aaf-4d60-86b8-ca9473730623",
   "metadata": {},
   "outputs": [
    {
     "data": {
      "text/plain": [
       "11"
      ]
     },
     "execution_count": 23,
     "metadata": {},
     "output_type": "execute_result"
    }
   ],
   "source": [
    "len(sentences)"
   ]
  },
  {
   "cell_type": "code",
   "execution_count": 8,
   "id": "ee30d286-26f4-4538-af9a-36b5467c7178",
   "metadata": {
    "scrolled": true
   },
   "outputs": [],
   "source": [
    "# embeddings = model.encode(sentences, normalize_embeddings=True).tolist()\n",
    "data = [(sentence, embedding) for sentence, embedding in zip(sentences, embeddings)]\n",
    "with conn.cursor() as curs:\n",
    "    execute_values(\n",
    "                curs,\n",
    "                insert_embeddings,\n",
    "                data,\n",
    "                template=\"(%s, %s)\"\n",
    "            )"
   ]
  },
  {
   "cell_type": "code",
   "execution_count": 10,
   "id": "ef1bf172-a515-4066-aeeb-3595f4f37613",
   "metadata": {},
   "outputs": [
    {
     "data": {
      "text/plain": [
       "[('python', 1.0),\n",
       " ('python', 1.0),\n",
       " ('hello python', 0.8450508713722229),\n",
       " ('hello python', 0.8450508713722229),\n",
       " ('bye python', 0.6831845045089722)]"
      ]
     },
     "execution_count": 10,
     "metadata": {},
     "output_type": "execute_result"
    }
   ],
   "source": [
    "data = str(model.encode(\"python\", normalize_embeddings=False).tolist())\n",
    "with conn.cursor() as curs:\n",
    "    curs.execute(\"\"\"\n",
    "            SELECT keyword,\n",
    "            1-(embedding <=> %(data)s) as similarity\n",
    "            FROM example\n",
    "            --WHERE 1-(embedding <=> %(data)s) >= 0.5\n",
    "            ORDER BY embedding <=> %(data)s\n",
    "            LIMIT 5;\n",
    "        \"\"\",\n",
    "        {\"data\": data}\n",
    "    )\n",
    "    result = [(keyword) for keyword in curs.fetchall()]\n",
    "result"
   ]
  },
  {
   "cell_type": "code",
   "execution_count": 88,
   "id": "5f81dfb7-90a1-4625-adbc-a6869399cd23",
   "metadata": {},
   "outputs": [],
   "source": [
    "with conn.cursor() as curs:\n",
    "    curs.execute(\"CREATE INDEX ON example USING ivfflat (embedding vector_cosine_ops) WITH (lists = 100);\")"
   ]
  },
  {
   "cell_type": "code",
   "execution_count": 92,
   "id": "be750f8a-c63e-4408-bf18-d85a6f97184d",
   "metadata": {},
   "outputs": [],
   "source": [
    "# download pre-chunked text and pre-computed embeddings\n",
    "# this file is ~200 MB, so may take a minute depending on your connection speed\n",
    "import pandas as pd\n",
    "embeddings_path = \"https://cdn.openai.com/API/examples/data/winter_olympics_2022.csv\"\n",
    "\n",
    "df = pd.read_csv(embeddings_path)"
   ]
  },
  {
   "cell_type": "code",
   "execution_count": 98,
   "id": "cd56fa55-f155-4b2b-89ba-d20186025e19",
   "metadata": {},
   "outputs": [
    {
     "data": {
      "text/plain": [
       "\"Stefania Constantini\\n\\n==Career==\\n\\nConstantini made her international curling debut at the [[Curling at the 2016 Winter Youth Olympics – Mixed team|2016 Winter Youth Olympics]] in the mixed team as third for [[Luca Rizzolli]]. The team went 3–4 through the round robin but lost in a tiebreaker to Turkey's [[Oğuzhan Karakurt]]. She also competed in the [[Curling at the 2016 Winter Youth Olympics – Mixed doubles|mixed doubles event]] with British curler [[Callum Kinnear]]. The pair made it to the final eight, where they lost to China's [[Zhao Ruiyi]] and Norway's [[Andreas Hårstad]].\\n\\nConstantini was added to the Italian National Women's Curling Team for the [[2017–18 curling season|2017–18 season]] as the team's second. The team also consisted of skip [[Diana Gaspari]], third [[Veronica Zappone]], lead [[Angela Romei]], and alternate [[Chiara Olivieri]]. The team's first international event of the season came at the [[2017 European Curling Championships]] in [[St. Gallen]], [[Switzerland]]. The team played well through the round robin and qualified for the playoffs over higher-ranked teams such as Russia's [[Anna Sidorova]] and Germany's [[Daniela Jentsch]]. After losing in the semifinal to Sweden's [[Anna Hasselborg]], the Italian team upset Switzerland's [[Silvana Tirinzoni]] 7–6 to earn the bronze medal, Italy's third-ever medal in the women's event at the [[European Curling Championships|European Championships]]. Next, the Italian women's rink competed in the [[Curling at the 2018 Winter Olympics – Qualification event|2017 Olympic Qualification Event]] in attempts to earn a spot in the [[Curling at the 2018 Winter Olympics – Women's tournament|2018 Winter Olympics]] in [[Pyeongchang County|PyeongChang]], [[South Korea]]. The team once again performed well at the event, finishing the round robin in first place with a 5–1 record. This gave them two opportunities to secure their spot in the Olympics. In the first qualification final, the Italian side gave up nine stolen points against China's [[Wang Bingyu]], ultimately losing the game 11–4. They had a second opportunity to qualify for the Games against Denmark's [[Madeleine Dupont]] in the second qualification final. In a tight game, Denmark's Dupont scored one in the extra end to win 5–4 and earn the final spot in the Olympics, meaning Italy would miss out on the Games. The team had one more international event during the season with Constantini competing in her first World Curling Championship at the [[2018 World Women's Curling Championship]]. Despite their prior success, Team Gaspari finished in last at the World Championship with a 2–10 record, only defeating Scotland's [[Hannah Fleming]] and Russia's [[Victoria Moiseeva]]. Still of junior age, Constantini also skipped the Italian Junior Women's Team at the [[2018 World Junior B Curling Championships]], finishing in fifth place with a 5–2 record.\\n\\nWith Diana Gaspari stepping away from the women's team, Constantini was promoted to third on the Italian rink, with Veronica Zappone taking over as skip for the [[2018–19 curling season|2018–19 season]]. Romei moved up to play second while [[Frederica Ghedina]] and [[Elena Dami]] were added at lead and alternate, respectively. The team remained in the A Division at the [[2018 European Curling Championships]] but finished in last with a 2–7 record. This relegated Italy to the B Division for the 2019 event, meaning they wouldn't qualify for the [[2019 World Women's Curling Championship]]. Despite their result, Constantini was still of junior age and once again skipped the Italian women's rink at the [[2019 World Junior-B Curling Championships (January)|2019 World Junior-B Curling Championships]]. Her team finished with a 3–3 record, not enough to advance to the final eight playoff round. Two months later, in March 2019, Constantini skipped Team Italy at the [[Curling at the 2019 Winter Universiade|2019 Winter Universiade]] where her team finished in last with a 2–7 record.\""
      ]
     },
     "execution_count": 98,
     "metadata": {},
     "output_type": "execute_result"
    }
   ],
   "source": [
    "df.loc[1000,\"text\"]"
   ]
  }
 ],
 "metadata": {
  "kernelspec": {
   "display_name": "Python 3.10.8 ('venv': venv)",
   "language": "python",
   "name": "python3"
  },
  "language_info": {
   "codemirror_mode": {
    "name": "ipython",
    "version": 3
   },
   "file_extension": ".py",
   "mimetype": "text/x-python",
   "name": "python",
   "nbconvert_exporter": "python",
   "pygments_lexer": "ipython3",
   "version": "3.10.8"
  },
  "vscode": {
   "interpreter": {
    "hash": "ae2b1f0054b67a04ff4c4dc26e0c20dbe39d01b741cfb25c1b8ade628f10db5d"
   }
  }
 },
 "nbformat": 4,
 "nbformat_minor": 5
}
